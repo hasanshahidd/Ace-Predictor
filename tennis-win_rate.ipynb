{
  "cells": [
    {
      "cell_type": "code",
      "execution_count": null,
      "metadata": {
        "id": "Xm4e_jTdRUhV"
      },
      "outputs": [],
      "source": [
        "\n",
        "pd.set_option('display.max_colwidth', 200) # type: ignore\n",
        "pd.set_option('display.max_columns', 50)\n",
        "pd.set_option('display.max_rows', 20)\n",
        "pd.options.display.float_format = \"{:.2f}\".format"
      ]
    },
    {
      "cell_type": "code",
      "execution_count": null,
      "metadata": {
        "id": "uNsiz1LkSQ3n"
      },
      "outputs": [],
      "source": [
        "YEAR_START=2014\n",
        "YEAR_END=2023\n"
      ]
    },
    {
      "cell_type": "code",
      "execution_count": null,
      "metadata": {
        "colab": {
          "base_uri": "https://localhost:8080/",
          "height": 848
        },
        "id": "_FyoT5WrPcdR",
        "outputId": "af485751-e6e3-44ac-aa42-1cf66c65eb23"
      },
      "outputs": [
        {
          "name": "stdout",
          "output_type": "stream",
          "text": [
            "  tourney_id tourney_name surface  draw_size tourney_level  tourney_date  \\\n",
            "0   2000-339     Adelaide    Hard        NaN             A      20000103   \n",
            "1   2000-339     Adelaide    Hard        NaN             A      20000103   \n",
            "2   2000-339     Adelaide    Hard        NaN             A      20000103   \n",
            "3   2000-339     Adelaide    Hard        NaN             A      20000103   \n",
            "4   2000-339     Adelaide    Hard        NaN             A      20000103   \n",
            "\n",
            "   match_num  winner_id  winner_seed winner_entry          winner_name  \\\n",
            "0          1     102358         1.00          NaN       Thomas Enqvist   \n",
            "1          2     103819          NaN          NaN        Roger Federer   \n",
            "2          3     102998          NaN          NaN  Jan Michael Gambill   \n",
            "3          4     103206         7.00          NaN   Sebastien Grosjean   \n",
            "4          5     102796         3.00          NaN        Magnus Norman   \n",
            "\n",
            "  winner_hand  winner_ht winner_ioc  winner_age  loser_id  loser_seed  \\\n",
            "0           R     190.00        SWE       25.81    103096         NaN   \n",
            "1           R     185.00        SUI       18.40    102533         NaN   \n",
            "2           R     190.00        USA       22.58    101885         NaN   \n",
            "3           R     175.00        FRA       21.60    102776         NaN   \n",
            "4           R     188.00        SWE       23.59    102401         NaN   \n",
            "\n",
            "  loser_entry        loser_name loser_hand  loser_ht loser_ioc  loser_age  \\\n",
            "0         NaN    Arnaud Clement          R    173.00       FRA      22.05   \n",
            "1         NaN  Jens Knippschild          R    190.00       GER      24.88   \n",
            "2         NaN     Wayne Arthurs          L    190.00       AUS      28.80   \n",
            "3         NaN       Andrew Ilie          R    180.00       AUS      23.71   \n",
            "4          WC      Scott Draper          L    178.00       AUS      25.58   \n",
            "\n",
            "            score  best_of round  minutes  w_ace  w_df  w_svpt  w_1stIn  \\\n",
            "0         6-3 6-4        3   R32    76.00   6.00  0.00   66.00    29.00   \n",
            "1         6-1 6-4        3   R32    45.00   6.00  3.00   46.00    28.00   \n",
            "2  3-6 7-6(5) 6-4        3   R32   115.00   8.00  3.00   81.00    40.00   \n",
            "3         6-2 6-1        3   R32    65.00   4.00  2.00   66.00    35.00   \n",
            "4         6-4 6-4        3   R32    68.00   6.00  2.00   52.00    32.00   \n",
            "\n",
            "   w_1stWon  w_2ndWon  w_SvGms  w_bpSaved  w_bpFaced  l_ace  l_df  l_svpt  \\\n",
            "0     23.00     23.00    10.00       2.00       2.00   1.00  3.00   59.00   \n",
            "1     24.00     12.00     9.00       0.00       0.00   3.00  5.00   42.00   \n",
            "2     35.00     28.00    15.00       0.00       1.00  26.00  2.00  103.00   \n",
            "3     28.00     14.00     7.00       4.00       4.00   0.00  3.00   49.00   \n",
            "4     26.00     12.00    10.00       0.00       1.00   4.00  2.00   73.00   \n",
            "\n",
            "   l_1stIn  l_1stWon  l_2ndWon  l_SvGms  l_bpSaved  l_bpFaced  winner_rank  \\\n",
            "0    37.00     25.00     13.00     9.00       2.00       4.00         4.00   \n",
            "1    15.00     13.00     12.00     8.00       0.00       3.00        64.00   \n",
            "2    59.00     49.00     22.00    16.00       4.00       5.00        58.00   \n",
            "3    22.00     12.00      8.00     8.00       1.00       6.00        27.00   \n",
            "4    40.00     25.00     16.00    10.00       7.00      10.00        15.00   \n",
            "\n",
            "   winner_rank_points  loser_rank  loser_rank_points  year  \n",
            "0             1850.00       56.00             490.00  2000  \n",
            "1              515.00       91.00             404.00  2000  \n",
            "2              544.00      105.00             243.00  2000  \n",
            "3              928.00       54.00             602.00  2000  \n",
            "4             1244.00      154.00             219.00  2000  \n"
          ]
        }
      ],
      "source": [
        "import pandas as pd, numpy as np, os # type: ignore\n",
        "YEAR_START, YEAR_END = 2000, 2018\n",
        "years = np.arange(YEAR_START, YEAR_END + 1)\n",
        "dfs = []\n",
        "data_directory = r'C:\\Users\\Admin\\Desktop\\tennis-blog-master\\tennis-blog-master\\data\\atp'\n",
        "for year in years:\n",
        "    file_path = os.path.join(data_directory, f'atp_matches_{year}.csv')\n",
        "    if os.path.exists(file_path):\n",
        "        df_tmp = pd.read_csv(file_path)\n",
        "        df_tmp['year'] = year\n",
        "        dfs.append(df_tmp)\n",
        "    else:\n",
        "        print(f'File not found: {file_path}')\n",
        "if dfs:\n",
        "    df_raw = pd.concat(dfs, ignore_index=True)\n",
        "    print(df_raw.head())\n",
        "else:\n",
        "    print('No data files were loaded. Please check the file paths and availability.')\n"
      ]
    },
    {
      "cell_type": "code",
      "execution_count": null,
      "metadata": {
        "colab": {
          "base_uri": "https://localhost:8080/",
          "height": 424
        },
        "id": "JqVlj23RUnVH",
        "outputId": "83bcda31-8469-4158-e615-23e89fc1c7e6"
      },
      "outputs": [
        {
          "data": {
            "text/html": [
              "<div>\n",
              "<style scoped>\n",
              "    .dataframe tbody tr th:only-of-type {\n",
              "        vertical-align: middle;\n",
              "    }\n",
              "\n",
              "    .dataframe tbody tr th {\n",
              "        vertical-align: top;\n",
              "    }\n",
              "\n",
              "    .dataframe thead th {\n",
              "        text-align: right;\n",
              "    }\n",
              "</style>\n",
              "<table border=\"1\" class=\"dataframe\">\n",
              "  <thead>\n",
              "    <tr style=\"text-align: right;\">\n",
              "      <th></th>\n",
              "      <th>year</th>\n",
              "      <th>tourney_level</th>\n",
              "      <th>score</th>\n",
              "    </tr>\n",
              "  </thead>\n",
              "  <tbody>\n",
              "    <tr>\n",
              "      <th>0</th>\n",
              "      <td>2000</td>\n",
              "      <td>A</td>\n",
              "      <td>6-3 6-4</td>\n",
              "    </tr>\n",
              "    <tr>\n",
              "      <th>1</th>\n",
              "      <td>2000</td>\n",
              "      <td>A</td>\n",
              "      <td>6-1 6-4</td>\n",
              "    </tr>\n",
              "    <tr>\n",
              "      <th>2</th>\n",
              "      <td>2000</td>\n",
              "      <td>A</td>\n",
              "      <td>3-6 7-6(5) 6-4</td>\n",
              "    </tr>\n",
              "    <tr>\n",
              "      <th>3</th>\n",
              "      <td>2000</td>\n",
              "      <td>A</td>\n",
              "      <td>6-2 6-1</td>\n",
              "    </tr>\n",
              "    <tr>\n",
              "      <th>4</th>\n",
              "      <td>2000</td>\n",
              "      <td>A</td>\n",
              "      <td>6-4 6-4</td>\n",
              "    </tr>\n",
              "    <tr>\n",
              "      <th>...</th>\n",
              "      <td>...</td>\n",
              "      <td>...</td>\n",
              "      <td>...</td>\n",
              "    </tr>\n",
              "    <tr>\n",
              "      <th>58774</th>\n",
              "      <td>2018</td>\n",
              "      <td>F</td>\n",
              "      <td>6-2 6-2</td>\n",
              "    </tr>\n",
              "    <tr>\n",
              "      <th>58775</th>\n",
              "      <td>2018</td>\n",
              "      <td>F</td>\n",
              "      <td>6-4 6-3</td>\n",
              "    </tr>\n",
              "    <tr>\n",
              "      <th>58776</th>\n",
              "      <td>2018</td>\n",
              "      <td>D</td>\n",
              "      <td>6-2 7-5 6-4</td>\n",
              "    </tr>\n",
              "    <tr>\n",
              "      <th>58777</th>\n",
              "      <td>2018</td>\n",
              "      <td>D</td>\n",
              "      <td>6-3 7-5 6-4</td>\n",
              "    </tr>\n",
              "    <tr>\n",
              "      <th>58778</th>\n",
              "      <td>2018</td>\n",
              "      <td>D</td>\n",
              "      <td>7-6(3) 6-3 6-3</td>\n",
              "    </tr>\n",
              "  </tbody>\n",
              "</table>\n",
              "<p>58779 rows × 3 columns</p>\n",
              "</div>"
            ],
            "text/plain": [
              "       year tourney_level           score\n",
              "0      2000             A         6-3 6-4\n",
              "1      2000             A         6-1 6-4\n",
              "2      2000             A  3-6 7-6(5) 6-4\n",
              "3      2000             A         6-2 6-1\n",
              "4      2000             A         6-4 6-4\n",
              "...     ...           ...             ...\n",
              "58774  2018             F         6-2 6-2\n",
              "58775  2018             F         6-4 6-3\n",
              "58776  2018             D     6-2 7-5 6-4\n",
              "58777  2018             D     6-3 7-5 6-4\n",
              "58778  2018             D  7-6(3) 6-3 6-3\n",
              "\n",
              "[58779 rows x 3 columns]"
            ]
          },
          "execution_count": 20,
          "metadata": {},
          "output_type": "execute_result"
        }
      ],
      "source": [
        "cols=['year','tourney_level','score']\n",
        "df=df_raw[cols].copy()\n",
        "df"
      ]
    }
  ],
  "metadata": {
    "colab": {
      "authorship_tag": "ABX9TyMMrJuJWYN/xd8rJJlpKaz6",
      "include_colab_link": true,
      "provenance": []
    },
    "kernelspec": {
      "display_name": "Python 3",
      "name": "python3"
    },
    "language_info": {
      "codemirror_mode": {
        "name": "ipython",
        "version": 3
      },
      "file_extension": ".py",
      "mimetype": "text/x-python",
      "name": "python",
      "nbconvert_exporter": "python",
      "pygments_lexer": "ipython3",
      "version": "3.10.0"
    }
  },
  "nbformat": 4,
  "nbformat_minor": 0
}
